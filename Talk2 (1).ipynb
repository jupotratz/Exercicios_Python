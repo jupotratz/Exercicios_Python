{
  "nbformat": 4,
  "nbformat_minor": 0,
  "metadata": {
    "kernelspec": {
      "display_name": "Python 3",
      "language": "python",
      "name": "python3"
    },
    "language_info": {
      "codemirror_mode": {
        "name": "ipython",
        "version": 3
      },
      "file_extension": ".py",
      "mimetype": "text/x-python",
      "name": "python",
      "nbconvert_exporter": "python",
      "pygments_lexer": "ipython3",
      "version": "3.7.0"
    },
    "colab": {
      "name": "Talk2.ipynb",
      "provenance": [],
      "collapsed_sections": [
        "jDO4A6ESaFQ3",
        "YrjE1fPsYhZ8",
        "6Cu943CwRAoj",
        "wkkrYexwo3Cy",
        "i-NZSbTqpMGA"
      ]
    }
  },
  "cells": [
    {
      "cell_type": "markdown",
      "metadata": {
        "id": "80btK5XbwZYO"
      },
      "source": [
        "<img src=\"https://github.com/jupotratz/Python_BI_Master/blob/main/Turmas/2021.3/Imagens/sep.png?raw=true\"  width=1000 height=125 />"
      ]
    },
    {
      "cell_type": "markdown",
      "metadata": {
        "id": "QzcePa9W8N_Y"
      },
      "source": [
        "# Professoras\n",
        "\n",
        " - Amanda Lemette \n",
        "\t - prof.amanda@ica.ele.puc-rio.br\n",
        "\t - [Linkedin](https://www.linkedin.com/in/amanda-lemette-brand%C3%A3o-83280918b)\n",
        "   - [Youtube](https://www.youtube.com/c/AmandaLemette/featured)\n",
        "   \n",
        " - Júlia Potratz\n",
        "\t - prof.julia@ica.ele.puc-rio.br\n",
        "\t - [Linkedin](https://www.linkedin.com/in/julia-potratz)\n",
        "     \n",
        "# Material \n",
        "\n",
        "Repositório no GitHub: [Python_BI_Master](https://github.com/jupotratz/Python_BI_Master)\n",
        "\n",
        "\n",
        "# Talk 2\n",
        "\n",
        "- **Plano de aula:**\n",
        "\t- Lista + tupla\n",
        "         - acrescentar valores (append, insert e extend)\n",
        "         - remover valores (remove, pop)\n",
        "         - selecionar valores dentro da lista (indexação)\n",
        "         - verificar existencia de um elemento na lista \n",
        "         - ordenar listas\n",
        "         - extra(verificar valores unicos dentro de uma lista - *SET*) \n",
        "\n",
        "  - Loops\n",
        "      - for  \n",
        "          - caracteristicas do print( )\n",
        "          - usando lista, range, enumerate, zip (tentar associar a alguma coisa real)\n",
        "\n",
        "      - while\n",
        "          - sintaxe\n",
        "          - break, pass e continue\n",
        "\n"
      ]
    },
    {
      "cell_type": "markdown",
      "metadata": {
        "id": "BCS4aWVzJBxx"
      },
      "source": [
        "<img src=\"https://github.com/jupotratz/Python_BI_Master/blob/main/Turmas/2021.3/Imagens/sep.png?raw=true\"  width=1000 height=125 />"
      ]
    },
    {
      "cell_type": "markdown",
      "metadata": {
        "id": "4Eo3EvIMJ4kf"
      },
      "source": [
        "## Problema proposto\n",
        "\n",
        "Daniel é dono de um mercadinho e com a pandemia do COVID 19 teve a necessidade de fazer uma adaptação no seu modelo de negócio e passar a oferecer compras online para os seus clientes. Para isso ele teve que investir tempo e dinheiro para a criação de um sistema para os seus clientes gerenciarem as suas compras em termos de valor, quantidade e produtos que estão sendo colocados no carrinho. Esses sistema tem o objetivo de informar um resumo do que está sendo comprado pelos clientes e deve permitir que a gente consiga acrescentar novos produtos, remover produtos e pesquisar os produtos que já estão no carrinho, caso seja necessário. \n",
        "\n",
        "### Características do problema\n",
        "- Temos que armazenar as informações dos produtos, quantidades e valores em algum lugar.\n",
        "- O usuário deve poder fazer a inserção e remoção de algum produto.\n",
        "- O usuário também tem que conseguir verificar se já existe um produto específico no carrinho (conferir se não esqueceu de nada).\n",
        "\n",
        "### Solução\n",
        "\n",
        "- Como poderíamos fazer isso em Python?\n",
        "\n",
        "- Com o que sabemos até agora vocês acham que é possível realizar todos esses procedimentos?\n",
        "  - Operadores (aritméticos, relacionais, lógicos)\n",
        "  - Dados inteiros\n",
        "  - Dados reais\n",
        "  - Estruturas condicionais\n",
        "\n",
        "<center><img src=\"https://dicasdamaia.files.wordpress.com/2017/12/duvida.png?w=190\" width=200 ><center>\n",
        "\n"
      ]
    },
    {
      "cell_type": "markdown",
      "metadata": {
        "id": "vlA-WrwMJRAC"
      },
      "source": [
        "# Listas\n",
        "\n",
        "Forma simples de interligar os elementos de um conjunto.\n",
        "- Agrupa informações referentes a um conjunto de elementos que se relacionam entre si de alguma forma.\n",
        "- Inúmeros tipos de dados podem ser representados\n",
        "por listas. Alguns exemplos de sistemas de\n",
        "informação são: \n",
        "  - Informações sobre os funcionários\n",
        "de uma empresa\n",
        "  - Notas de alunos\n",
        "  - Itens de estoque\n",
        "  - etc.\n",
        "- As listas podem armazenar um número **variável** de elementos, ou seja, o seu tamanho pode ser modificado.\n",
        "- Podemos acessar um elemento desse conjunto de dados por meio de um **índice** que representa a sua posição na lista.\n"
      ]
    },
    {
      "cell_type": "markdown",
      "metadata": {
        "id": "5d1PX1ygwZm6"
      },
      "source": [
        "<img src=\"https://github.com/jupotratz/Python_BI_Master/blob/main/Turmas/2021.3/Imagens/sep.png?raw=true\"  width=1000 height=125 />"
      ]
    },
    {
      "cell_type": "markdown",
      "metadata": {
        "id": "6REZYqpARLXH"
      },
      "source": [
        "# Listas\n",
        "---\n",
        "\n",
        "\n",
        "\n",
        "\n"
      ]
    },
    {
      "cell_type": "markdown",
      "metadata": {
        "id": "tF9_ZSpkTbd1"
      },
      "source": [
        "## Definindo uma lista\n",
        "\n",
        "<center><img src=\"https://github.com/jupotratz/Python_BI_Master/blob/main/Turmas/2021.3/Imagens/lista_definindo.JPG?raw=true\" width=400><center>\n",
        "\n",
        "Vamos definir as listas representadas na imagem acima e verificar o typo de cada uma das variáveis:"
      ]
    },
    {
      "cell_type": "code",
      "metadata": {
        "id": "h_V8E3BDdjBn"
      },
      "source": [
        "lista = [10, 11, 12, 13, 14, 15]\n",
        "notas = [10, 9.5, 5, 7.2, 8.7]\n",
        "vazio = []\n",
        "outra_lista_vazia = list()"
      ],
      "execution_count": null,
      "outputs": []
    },
    {
      "cell_type": "code",
      "metadata": {
        "colab": {
          "base_uri": "https://localhost:8080/"
        },
        "id": "rkKTH9FZdjH2",
        "outputId": "e84c1eb4-7e00-4798-963c-f2582ca64feb"
      },
      "source": [
        "(lista)"
      ],
      "execution_count": null,
      "outputs": [
        {
          "output_type": "execute_result",
          "data": {
            "text/plain": [
              "[10, 11, 12, 13, 14, 15]"
            ]
          },
          "metadata": {},
          "execution_count": 5
        }
      ]
    },
    {
      "cell_type": "code",
      "metadata": {
        "colab": {
          "base_uri": "https://localhost:8080/"
        },
        "id": "IjXU0554d714",
        "outputId": "6e987cff-a432-4dae-d62d-360af81371a4"
      },
      "source": [
        "type(notas)"
      ],
      "execution_count": null,
      "outputs": [
        {
          "output_type": "execute_result",
          "data": {
            "text/plain": [
              "list"
            ]
          },
          "metadata": {},
          "execution_count": 6
        }
      ]
    },
    {
      "cell_type": "code",
      "metadata": {
        "colab": {
          "base_uri": "https://localhost:8080/"
        },
        "id": "yDCtikG2d8BG",
        "outputId": "b26a838d-6bed-4d0f-97ab-46aad71fa99c"
      },
      "source": [
        "type(vazio)"
      ],
      "execution_count": null,
      "outputs": [
        {
          "output_type": "execute_result",
          "data": {
            "text/plain": [
              "list"
            ]
          },
          "metadata": {},
          "execution_count": 7
        }
      ]
    },
    {
      "cell_type": "code",
      "metadata": {
        "id": "6X5SZJUiOzwT"
      },
      "source": [
        "type(outra_lista_vazia)"
      ],
      "execution_count": null,
      "outputs": []
    },
    {
      "cell_type": "markdown",
      "metadata": {
        "id": "CufQF_WVdiUL"
      },
      "source": [
        "## Acessando um elemento ou mais da lista\n",
        "\n",
        "Para acessar informações em tipos de dados que guardam doi ou mais elementos temos e=que entender como funciona a indexação no Python, ou seja, qual o **index numérico** de cada elemento.\n",
        "\n",
        "\n",
        "\n",
        "<center><img src=\"https://github.com/jupotratz/Python_BI_Master/blob/main/Turmas/2021.3/Imagens/lista_indices.JPG?raw=true\" width=650><center>\n"
      ]
    },
    {
      "cell_type": "code",
      "metadata": {
        "colab": {
          "base_uri": "https://localhost:8080/"
        },
        "id": "R3ca_vZGf3YS",
        "outputId": "fdfb3dcb-7b37-4e41-f75f-afb8230bebd4"
      },
      "source": [
        "lista = [10, 11, 12, 13, 14, 15]\n",
        "print(lista)"
      ],
      "execution_count": null,
      "outputs": [
        {
          "output_type": "stream",
          "name": "stdout",
          "text": [
            "[10, 11, 12, 13, 14, 15]\n"
          ]
        }
      ]
    },
    {
      "cell_type": "markdown",
      "metadata": {
        "id": "h0gXFlH6fyLC"
      },
      "source": [
        "- Vamos acessar o elemento 11 da nossa lista"
      ]
    },
    {
      "cell_type": "code",
      "metadata": {
        "colab": {
          "base_uri": "https://localhost:8080/"
        },
        "id": "Q1hFm67JdbbL",
        "outputId": "bd7abbd3-86fb-470b-c340-593958259508"
      },
      "source": [
        "# Indice positivo\n",
        "lista[1]"
      ],
      "execution_count": null,
      "outputs": [
        {
          "output_type": "execute_result",
          "data": {
            "text/plain": [
              "11"
            ]
          },
          "metadata": {},
          "execution_count": 10
        }
      ]
    },
    {
      "cell_type": "code",
      "metadata": {
        "colab": {
          "base_uri": "https://localhost:8080/"
        },
        "id": "KvTGnK2Edbdd",
        "outputId": "008be730-41d0-4bdf-a4c4-e318785d1139"
      },
      "source": [
        "# Indice negativo\n",
        "lista[-5]"
      ],
      "execution_count": null,
      "outputs": [
        {
          "output_type": "execute_result",
          "data": {
            "text/plain": [
              "11"
            ]
          },
          "metadata": {},
          "execution_count": 11
        }
      ]
    },
    {
      "cell_type": "code",
      "metadata": {
        "id": "vNtS_QrOdbfQ"
      },
      "source": [
        ""
      ],
      "execution_count": null,
      "outputs": []
    },
    {
      "cell_type": "markdown",
      "metadata": {
        "id": "6HXI84HVgHjO"
      },
      "source": [
        "- Vamos supor que agora a gente queira acessar um pedação da minha lista, por exemplo do primeiro elemento até o terceiro, como faríamos isso?\n",
        "\n",
        "<center><img src=\"https://dicasdamaia.files.wordpress.com/2017/12/duvida.png?w=190\"><center>\n",
        "\n",
        "\n"
      ]
    },
    {
      "cell_type": "code",
      "metadata": {
        "id": "ZHJVAliJdbh5"
      },
      "source": [
        ""
      ],
      "execution_count": null,
      "outputs": []
    },
    {
      "cell_type": "markdown",
      "metadata": {
        "id": "3MVDKTQ-gxde"
      },
      "source": [
        "- Vamos entender como selecionar fatias das nossas listas:\n",
        "\n",
        "<center><img src=\"https://github.com/jupotratz/Python_BI_Master/blob/main/Turmas/2021.3/Imagens/indexa%C3%A7%C3%A3o_lista.JPG?raw=true\" width=600><center>\n",
        "\n"
      ]
    },
    {
      "cell_type": "code",
      "metadata": {
        "colab": {
          "base_uri": "https://localhost:8080/"
        },
        "id": "_hd_ZFDbdbju",
        "outputId": "a527c40d-0d3a-4bbc-e0b7-012de378c009"
      },
      "source": [
        "lista = [10, 11, 12, 13, 14, 15]\n",
        "print(lista)"
      ],
      "execution_count": null,
      "outputs": [
        {
          "output_type": "stream",
          "name": "stdout",
          "text": [
            "[10, 11, 12, 13, 14, 15]\n"
          ]
        }
      ]
    },
    {
      "cell_type": "markdown",
      "metadata": {
        "id": "WnPg_oOsg5WG"
      },
      "source": [
        "- Vamos selecionar do 1º ao terceiro elemento da lista"
      ]
    },
    {
      "cell_type": "code",
      "metadata": {
        "colab": {
          "base_uri": "https://localhost:8080/"
        },
        "id": "5KJzgUp_dblt",
        "outputId": "d385837c-6971-407c-ccba-8bbea3f67119"
      },
      "source": [
        "lista[:3]"
      ],
      "execution_count": null,
      "outputs": [
        {
          "output_type": "execute_result",
          "data": {
            "text/plain": [
              "[10, 11, 12]"
            ]
          },
          "metadata": {},
          "execution_count": 13
        }
      ]
    },
    {
      "cell_type": "markdown",
      "metadata": {
        "id": "DCb49xr9g_CC"
      },
      "source": [
        "- Vamos selecionar os 3 últimos elementos da lista"
      ]
    },
    {
      "cell_type": "code",
      "metadata": {
        "colab": {
          "base_uri": "https://localhost:8080/"
        },
        "id": "mZMWroq7dboD",
        "outputId": "d3d05b02-c186-4bcf-eeb1-80393b34558d"
      },
      "source": [
        "lista[-3:]"
      ],
      "execution_count": null,
      "outputs": [
        {
          "output_type": "execute_result",
          "data": {
            "text/plain": [
              "[13, 14, 15]"
            ]
          },
          "metadata": {},
          "execution_count": 17
        }
      ]
    },
    {
      "cell_type": "code",
      "metadata": {
        "colab": {
          "base_uri": "https://localhost:8080/"
        },
        "id": "-i9kU3sLhe1W",
        "outputId": "291b2aeb-92be-485f-f7c9-6b47b53630d4"
      },
      "source": [
        "lista[len(lista)-3:]"
      ],
      "execution_count": null,
      "outputs": [
        {
          "output_type": "execute_result",
          "data": {
            "text/plain": [
              "[13, 14, 15]"
            ]
          },
          "metadata": {},
          "execution_count": 18
        }
      ]
    },
    {
      "cell_type": "markdown",
      "metadata": {
        "id": "kwiR0fUshJgt"
      },
      "source": [
        "- E se eu quisesse selecionar os dois primeiros e os dois ultimos e criar uma nova lista com eles? Como fazer?"
      ]
    },
    {
      "cell_type": "code",
      "metadata": {
        "colab": {
          "base_uri": "https://localhost:8080/"
        },
        "id": "661bMcI6dbqD",
        "outputId": "899ef054-5869-449f-907f-f62007c33598"
      },
      "source": [
        "lista[:2] + lista[-2:]"
      ],
      "execution_count": null,
      "outputs": [
        {
          "output_type": "execute_result",
          "data": {
            "text/plain": [
              "[10, 11, 14, 15]"
            ]
          },
          "metadata": {},
          "execution_count": 19
        }
      ]
    },
    {
      "cell_type": "code",
      "metadata": {
        "id": "Z3yeYcEell0N"
      },
      "source": [
        ""
      ],
      "execution_count": null,
      "outputs": []
    },
    {
      "cell_type": "markdown",
      "metadata": {
        "id": "x2Vi3pjEldRa"
      },
      "source": [
        "## Acrescentando valores em uma lista\n",
        "\n",
        "Uma grande vantagem desse tipo de dado é que podemos criar uma lista e acrescentar novos dados quando for necessário. Existem algumas formas de fazer isso, são elas\n",
        "\n",
        "<center><img src=\"https://github.com/jupotratz/Python_BI_Master/blob/main/Turmas/2021.3/Imagens/listaxappendxextend.JPG?raw=true\" width=750><center>\n",
        "\n",
        "\n",
        "\n",
        "Sendo a variável lista que guarda a nossa sequência de dados, vamos ver na prática o que cada um desses métodos de lista fazem:\n",
        "\n",
        "\n"
      ]
    },
    {
      "cell_type": "markdown",
      "metadata": {
        "id": "51wS765SldUB"
      },
      "source": [
        "### lista.append( )\n",
        "\n",
        "- O método <code>.append( )</code> realiza o processo de anexar um novo elemento ao <code>final</code> de uma <code>lista</code>.\n",
        "\n",
        "<center><img src=\"https://github.com/jupotratz/Python_BI_Master/blob/main/Turmas/2021.3/Imagens/append.JPG?raw=true\" width=650><center>"
      ]
    },
    {
      "cell_type": "code",
      "metadata": {
        "colab": {
          "base_uri": "https://localhost:8080/"
        },
        "id": "eI_D_sqhoTF5",
        "outputId": "ca8a82da-cef3-4e19-ecae-8bc31b194592"
      },
      "source": [
        "lista = [8, 5, 12, 20, 14]\n",
        "print(lista)"
      ],
      "execution_count": null,
      "outputs": [
        {
          "output_type": "stream",
          "name": "stdout",
          "text": [
            "[8, 5, 12, 20, 14]\n"
          ]
        }
      ]
    },
    {
      "cell_type": "code",
      "metadata": {
        "id": "oRng3MlhoYEp"
      },
      "source": [
        "value = 16\n",
        "lista.append(value)"
      ],
      "execution_count": null,
      "outputs": []
    },
    {
      "cell_type": "code",
      "metadata": {
        "colab": {
          "base_uri": "https://localhost:8080/"
        },
        "id": "bWtlqhXooYKb",
        "outputId": "9eb4c386-7bf7-4359-8ac8-51c178d21c1a"
      },
      "source": [
        "print(lista)"
      ],
      "execution_count": null,
      "outputs": [
        {
          "output_type": "stream",
          "name": "stdout",
          "text": [
            "[8, 5, 12, 20, 14, 16]\n"
          ]
        }
      ]
    },
    {
      "cell_type": "markdown",
      "metadata": {
        "id": "mYdqxhsRldXI"
      },
      "source": [
        "### lista.insert( )\n",
        "\n",
        "- O método <code>.insert( )</code> realiza o processo de inserir um novo elemento ao <code>em qualquer posição</code> de uma <code>lista</code>.\n",
        "\n",
        "<center><img src=\"https://github.com/jupotratz/Python_BI_Master/blob/main/Turmas/2021.3/Imagens/insert2.JPG?raw=true\" width=650><center>"
      ]
    },
    {
      "cell_type": "code",
      "metadata": {
        "colab": {
          "base_uri": "https://localhost:8080/"
        },
        "id": "pgHK4vDmowNx",
        "outputId": "75847bad-87d9-4973-df51-8678d32183b8"
      },
      "source": [
        "lista = [8, 5, 12, 20, 14]\n",
        "print(lista)"
      ],
      "execution_count": null,
      "outputs": [
        {
          "output_type": "stream",
          "name": "stdout",
          "text": [
            "[8, 5, 12, 20, 14]\n"
          ]
        }
      ]
    },
    {
      "cell_type": "code",
      "metadata": {
        "id": "TNhDL0XbowQ-"
      },
      "source": [
        "value = 16\n",
        "position = 3\n",
        "lista.insert(position, value)"
      ],
      "execution_count": null,
      "outputs": []
    },
    {
      "cell_type": "code",
      "metadata": {
        "colab": {
          "base_uri": "https://localhost:8080/"
        },
        "id": "GtP4-uVpowVD",
        "outputId": "104dd07e-51b2-469e-ec2c-84893fe43016"
      },
      "source": [
        "print(lista)"
      ],
      "execution_count": null,
      "outputs": [
        {
          "output_type": "stream",
          "name": "stdout",
          "text": [
            "[8, 5, 12, 16, 20, 14]\n"
          ]
        }
      ]
    },
    {
      "cell_type": "markdown",
      "metadata": {
        "id": "frtQxb-sldZJ"
      },
      "source": [
        "### lista.extend( )\n",
        "\n",
        "- O método <code>.extend( )</code> realiza o processo de inserir um novo conjunto de elementos ao <code>final</code> de uma <code>lista</code>.\n",
        "\n",
        "<center><img src=\"https://github.com/jupotratz/Python_BI_Master/blob/main/Turmas/2021.3/Imagens/extend.JPG?raw=true\" width=650><center>\n",
        "\n",
        "\n"
      ]
    },
    {
      "cell_type": "code",
      "metadata": {
        "id": "UX1nTYNXp3xy"
      },
      "source": [
        "lista = [8, 5, 12, 20, 14]\n",
        "print(lista)"
      ],
      "execution_count": null,
      "outputs": []
    },
    {
      "cell_type": "code",
      "metadata": {
        "id": "QXEuElXEp30V"
      },
      "source": [
        "value = (16,50)\n",
        "lista.extend(value)"
      ],
      "execution_count": null,
      "outputs": []
    },
    {
      "cell_type": "code",
      "metadata": {
        "colab": {
          "base_uri": "https://localhost:8080/"
        },
        "id": "MrVJxTYap-Y5",
        "outputId": "60c81bb3-6e9a-4260-ce42-f09c0033cb5b"
      },
      "source": [
        "print(lista)"
      ],
      "execution_count": null,
      "outputs": [
        {
          "output_type": "stream",
          "name": "stdout",
          "text": [
            "[8, 5, 12, 16, 20, 14, 16, 50]\n"
          ]
        }
      ]
    },
    {
      "cell_type": "markdown",
      "metadata": {
        "id": "_fdr02PDqyue"
      },
      "source": [
        "- Nesse caso adicionamos uma tupla (elementos envoltos de parenteses separados por vírgulas). Mas também poderiamos usar outra lista."
      ]
    },
    {
      "cell_type": "code",
      "metadata": {
        "id": "sN6mqLSBrCs7"
      },
      "source": [
        "lista = [8, 5, 12, 20, 14]\n",
        "print(lista)"
      ],
      "execution_count": null,
      "outputs": []
    },
    {
      "cell_type": "code",
      "metadata": {
        "id": "GP_vgVKsrCvY"
      },
      "source": [
        "value = [16,50]\n",
        "lista.extend(value)"
      ],
      "execution_count": null,
      "outputs": []
    },
    {
      "cell_type": "code",
      "metadata": {
        "id": "D_9RS0aDrCyx"
      },
      "source": [
        "print(lista)"
      ],
      "execution_count": null,
      "outputs": []
    },
    {
      "cell_type": "markdown",
      "metadata": {
        "id": "KSSdFraOldbZ"
      },
      "source": [
        "## Acrescentando valores em uma lista\n",
        "\n",
        "Assim como podemos acrescentar valores as nossas listas, também podemos remover. Existem algumas formas de fazer isso, são elas\n",
        "\n",
        "<center><img src=\"https://github.com/jupotratz/Python_BI_Master/blob/main/Turmas/2021.3/Imagens/remove_list.JPG?raw=true\" width=750><center>\n",
        "\n",
        "\n",
        "\n",
        "Sendo a variável lista que guarda a nossa sequência de dados, vamos ver na prática o que cada um desses métodos de lista fazem:"
      ]
    },
    {
      "cell_type": "markdown",
      "metadata": {
        "id": "kZ5SU_jlldda"
      },
      "source": [
        "### lista.remove( )\n",
        "\n",
        "- O método <code>.remove( )</code> realiza o processo de remover a <code>primeira ocorrência</code> de um elemento dentro de uma <code>lista</code>.\n",
        "\n",
        "<center><img src=\"https://github.com/jupotratz/Python_BI_Master/blob/main/Turmas/2021.3/Imagens/remove.JPG?raw=true\" width=650><center>"
      ]
    },
    {
      "cell_type": "code",
      "metadata": {
        "colab": {
          "base_uri": "https://localhost:8080/"
        },
        "id": "FdTYtDpRrqIn",
        "outputId": "495d4b01-fbc6-4540-b2fa-72dd8ba314d1"
      },
      "source": [
        "lista = [10, 11,10, 10, 14, 20]\n",
        "print(lista)"
      ],
      "execution_count": null,
      "outputs": [
        {
          "output_type": "stream",
          "name": "stdout",
          "text": [
            "[10, 11, 10, 10, 14, 20]\n"
          ]
        }
      ]
    },
    {
      "cell_type": "code",
      "metadata": {
        "id": "M2CuWrJsrqXm"
      },
      "source": [
        "value = 10\n",
        "lista.remove(value)"
      ],
      "execution_count": null,
      "outputs": []
    },
    {
      "cell_type": "code",
      "metadata": {
        "colab": {
          "base_uri": "https://localhost:8080/"
        },
        "id": "qjhJ8xcprqk1",
        "outputId": "c824fbd5-38ea-4384-deb9-3e8b4e367010"
      },
      "source": [
        "print(lista)"
      ],
      "execution_count": null,
      "outputs": [
        {
          "output_type": "stream",
          "name": "stdout",
          "text": [
            "[11, 10, 10, 14, 20]\n"
          ]
        }
      ]
    },
    {
      "cell_type": "markdown",
      "metadata": {
        "id": "p01mUoHzldfc"
      },
      "source": [
        "### lista.pop( )\n",
        "\n",
        "- O método <code>.pop( )</code> realiza o processo de remover um elemento de índice <code>i</code> de uma <code>lista</code>. Esse índice tem que ser passado como argumento essa função.\n",
        "\n",
        "<center><img src=\"https://github.com/jupotratz/Python_BI_Master/blob/main/Turmas/2021.3/Imagens/pop.JPG?raw=true\" width=650><center>"
      ]
    },
    {
      "cell_type": "code",
      "metadata": {
        "colab": {
          "base_uri": "https://localhost:8080/"
        },
        "id": "f1CoHY-xsa-r",
        "outputId": "9be49aef-8dea-491d-d79b-e7df57304dfd"
      },
      "source": [
        "lista = [10, 11,10, 10, 14, 20]\n",
        "print(lista)"
      ],
      "execution_count": null,
      "outputs": [
        {
          "output_type": "stream",
          "name": "stdout",
          "text": [
            "[10, 11, 10, 10, 14, 20]\n"
          ]
        }
      ]
    },
    {
      "cell_type": "code",
      "metadata": {
        "colab": {
          "base_uri": "https://localhost:8080/"
        },
        "id": "WaWHyGUusbBS",
        "outputId": "2b063524-c5ab-4887-92f8-01c175f2d701"
      },
      "source": [
        "index = 1\n",
        "lista.pop(index)"
      ],
      "execution_count": null,
      "outputs": [
        {
          "output_type": "execute_result",
          "data": {
            "text/plain": [
              "11"
            ]
          },
          "metadata": {},
          "execution_count": 21
        }
      ]
    },
    {
      "cell_type": "code",
      "metadata": {
        "colab": {
          "base_uri": "https://localhost:8080/"
        },
        "id": "FBvxSP9VsbD5",
        "outputId": "3c031268-a1e3-4ddb-c6c7-863b2b265a51"
      },
      "source": [
        "print(lista)"
      ],
      "execution_count": null,
      "outputs": [
        {
          "output_type": "stream",
          "name": "stdout",
          "text": [
            "[10, 10, 10, 14, 20]\n"
          ]
        }
      ]
    },
    {
      "cell_type": "markdown",
      "metadata": {
        "id": "xJpXPQlYldh6"
      },
      "source": [
        "## Criando uma lista a partir de duas.\n",
        "\n",
        "- Vimos que podemos utilizar o extend para ampliar a nossa lista, acrescentando todos os valores de uma segunda lista através do método <code>.extend( )</code>. Existe um outro procedimento que pode ser realizado chamado de concatenação entre duas listas e se dá através da operação de soma. \n",
        "\n",
        "<center><img src=\"https://github.com/jupotratz/Python_BI_Master/blob/main/Turmas/2021.3/Imagens/concatenar.JPG?raw=true\" width=650><center>\n"
      ]
    },
    {
      "cell_type": "code",
      "metadata": {
        "id": "o4YiyjydlKig"
      },
      "source": [
        "Lista_1 = [10, 11, 12]\n",
        "Lista_2 = [0, 1, 2]"
      ],
      "execution_count": null,
      "outputs": []
    },
    {
      "cell_type": "code",
      "metadata": {
        "colab": {
          "base_uri": "https://localhost:8080/"
        },
        "id": "AnzdVb_9tQ35",
        "outputId": "27557455-abe4-408b-bb70-859c9f075c44"
      },
      "source": [
        "Lista_1 + Lista_2"
      ],
      "execution_count": null,
      "outputs": [
        {
          "output_type": "execute_result",
          "data": {
            "text/plain": [
              "[10, 11, 12, 0, 1, 2]"
            ]
          },
          "metadata": {},
          "execution_count": 24
        }
      ]
    },
    {
      "cell_type": "code",
      "metadata": {
        "colab": {
          "base_uri": "https://localhost:8080/"
        },
        "id": "Dvd5CIWEtQ66",
        "outputId": "b2c368d2-c344-44d5-ef27-6867be8565b4"
      },
      "source": [
        "Lista_2 + Lista_1"
      ],
      "execution_count": null,
      "outputs": [
        {
          "output_type": "execute_result",
          "data": {
            "text/plain": [
              "[0, 1, 2, 10, 11, 12]"
            ]
          },
          "metadata": {},
          "execution_count": 25
        }
      ]
    },
    {
      "cell_type": "markdown",
      "metadata": {
        "id": "ULNiG8cStakt"
      },
      "source": [
        "Observação: Existe uma diferença muito grande quando utilizamos o .extend( )"
      ]
    },
    {
      "cell_type": "code",
      "metadata": {
        "colab": {
          "base_uri": "https://localhost:8080/"
        },
        "id": "ahUPBI-3tQ9j",
        "outputId": "6bfa809d-7f38-426f-e26a-0b30a7442be3"
      },
      "source": [
        "print(Lista_1)\n",
        "print(Lista_2)"
      ],
      "execution_count": null,
      "outputs": [
        {
          "output_type": "stream",
          "name": "stdout",
          "text": [
            "[10, 11, 12]\n",
            "[0, 1, 2]\n"
          ]
        }
      ]
    },
    {
      "cell_type": "code",
      "metadata": {
        "id": "-m_Ljc2PtQ_R"
      },
      "source": [
        "# Usando o extend\n",
        "\n",
        "Lista_1.extend(Lista_2)"
      ],
      "execution_count": null,
      "outputs": []
    },
    {
      "cell_type": "code",
      "metadata": {
        "colab": {
          "base_uri": "https://localhost:8080/"
        },
        "id": "XdFLXXextRAp",
        "outputId": "5e49647b-6821-4498-b2ef-a69d3a81ef50"
      },
      "source": [
        "print(Lista_1)\n",
        "print(Lista_2)"
      ],
      "execution_count": null,
      "outputs": [
        {
          "output_type": "stream",
          "name": "stdout",
          "text": [
            "[10, 11, 12, 0, 1, 2]\n",
            "[0, 1, 2]\n"
          ]
        }
      ]
    },
    {
      "cell_type": "markdown",
      "metadata": {
        "id": "L668X_n9tx76"
      },
      "source": [
        "## Replicando uma lista.\n",
        "\n",
        "- Nós podemos replicar o conteúdo de uma lista quantas vezes for necessário apenas aplicando uma operação de multiplicação.\n",
        "\n",
        "- Vale salientar que se o conteúdo da sua lista for numérico o Python **NÃO** vai multiplicar elemento a elemento por valor escalar (a estrutura de dado que realiza isso é conhecida como *vetor*)\n",
        "\n",
        "<center><img src=\"https://github.com/jupotratz/Python_BI_Master/blob/main/Turmas/2021.3/Imagens/replicar.JPG?raw=true\" width=650><center>"
      ]
    },
    {
      "cell_type": "code",
      "metadata": {
        "id": "T9olT5YWtRDO"
      },
      "source": [
        "Lista_1 = [10, 11, 12]"
      ],
      "execution_count": null,
      "outputs": []
    },
    {
      "cell_type": "code",
      "metadata": {
        "colab": {
          "base_uri": "https://localhost:8080/"
        },
        "id": "njj38cqHtRF8",
        "outputId": "ee990277-c8c4-48d0-aca7-d47f34a4cb1c"
      },
      "source": [
        "Lista_1*2"
      ],
      "execution_count": null,
      "outputs": [
        {
          "output_type": "execute_result",
          "data": {
            "text/plain": [
              "[10, 11, 12, 10, 11, 12]"
            ]
          },
          "metadata": {},
          "execution_count": 30
        }
      ]
    },
    {
      "cell_type": "code",
      "metadata": {
        "colab": {
          "base_uri": "https://localhost:8080/"
        },
        "id": "NSqqpnDwtRHn",
        "outputId": "a0e17158-0d72-40b3-d870-8433402ec1b9"
      },
      "source": [
        "Lista_1*3"
      ],
      "execution_count": null,
      "outputs": [
        {
          "output_type": "execute_result",
          "data": {
            "text/plain": [
              "[10, 11, 12, 10, 11, 12, 10, 11, 12]"
            ]
          },
          "metadata": {},
          "execution_count": 31
        }
      ]
    },
    {
      "cell_type": "markdown",
      "metadata": {
        "id": "W90iLIgwuf3J"
      },
      "source": [
        "### Contagem e verificação de um determinado elemento dentro de uma lista\n",
        "\n",
        "- Algumas vezes precisamos saber a recorrência ou existência de um elemento dentro de um conjunto de dados, como por exemplo as listas. Para isso podemos utilizar algumas funções úteis como os métodos .index( ) e .count( ).\n",
        "\n",
        "  \n",
        "\n",
        "  "
      ]
    },
    {
      "cell_type": "markdown",
      "metadata": {
        "id": "8F4iiPguwoRS"
      },
      "source": [
        "### lista.index( )\n",
        "\n",
        "- O método <code>.index(arg)</code> retorna o index de um determinado elemento dento de uma lista, mas ele retorna um erro caso aquele elemento não exista naquele conjunto de valores. Portanto, é um método pouco eficiente. \n",
        "\n",
        "<center><img src=\"https://github.com/jupotratz/Python_BI_Master/blob/main/Turmas/2021.3/Imagens/count_list.JPG?raw=true\" width=650><center>\n",
        "\n"
      ]
    },
    {
      "cell_type": "code",
      "metadata": {
        "colab": {
          "base_uri": "https://localhost:8080/"
        },
        "id": "GG7mXh1Jw6HT",
        "outputId": "8e5ac0dd-59f7-4f8f-ed4c-8b6a75fe7a8c"
      },
      "source": [
        "lista = [10, 11,10, 10, 14, 20]\n",
        "print(lista)"
      ],
      "execution_count": null,
      "outputs": [
        {
          "output_type": "stream",
          "name": "stdout",
          "text": [
            "[10, 11, 10, 10, 14, 20]\n"
          ]
        }
      ]
    },
    {
      "cell_type": "code",
      "metadata": {
        "id": "9XsWzVxWw6Mh"
      },
      "source": [
        "value = 10\n",
        "resultado = lista.index(value)"
      ],
      "execution_count": null,
      "outputs": []
    },
    {
      "cell_type": "code",
      "metadata": {
        "colab": {
          "base_uri": "https://localhost:8080/"
        },
        "id": "PT4MMe9hw6RH",
        "outputId": "1dc32e7f-300c-4d7b-df9f-03c8df57debe"
      },
      "source": [
        "print(resultado)"
      ],
      "execution_count": null,
      "outputs": [
        {
          "output_type": "stream",
          "name": "stdout",
          "text": [
            "0\n"
          ]
        }
      ]
    },
    {
      "cell_type": "markdown",
      "metadata": {
        "id": "p5xW4V-ww6T3"
      },
      "source": [
        "- Mas se eu tentar encontrar o index de um elemento que não pertence a lista o que acontece?"
      ]
    },
    {
      "cell_type": "code",
      "metadata": {
        "colab": {
          "base_uri": "https://localhost:8080/",
          "height": 165
        },
        "id": "a69SaGXGufNP",
        "outputId": "180fb56d-d0d9-45ed-9615-8b7f08ee4125"
      },
      "source": [
        "lista.index(15)"
      ],
      "execution_count": null,
      "outputs": [
        {
          "output_type": "error",
          "ename": "ValueError",
          "evalue": "ignored",
          "traceback": [
            "\u001b[0;31m---------------------------------------------------------------------------\u001b[0m",
            "\u001b[0;31mValueError\u001b[0m                                Traceback (most recent call last)",
            "\u001b[0;32m<ipython-input-35-ff4cfe355fdd>\u001b[0m in \u001b[0;36m<module>\u001b[0;34m()\u001b[0m\n\u001b[0;32m----> 1\u001b[0;31m \u001b[0mlista\u001b[0m\u001b[0;34m.\u001b[0m\u001b[0mindex\u001b[0m\u001b[0;34m(\u001b[0m\u001b[0;36m15\u001b[0m\u001b[0;34m)\u001b[0m\u001b[0;34m\u001b[0m\u001b[0;34m\u001b[0m\u001b[0m\n\u001b[0m",
            "\u001b[0;31mValueError\u001b[0m: 15 is not in list"
          ]
        }
      ]
    },
    {
      "cell_type": "markdown",
      "metadata": {
        "id": "F0M-73nAwoXg"
      },
      "source": [
        "### lista.count( )\n",
        "\n",
        "- O método <code>.count(arg)</code> realiza uma contagem da quantidade de vezes que um determinado valor (<code>arg</code>) aparece naquele conjunto de dados.\n",
        "\n",
        "<center><img src=\"https://github.com/jupotratz/Python_BI_Master/blob/main/Turmas/2021.3/Imagens/contagem_lista.JPG?raw=true\" width=650><center>"
      ]
    },
    {
      "cell_type": "markdown",
      "metadata": {
        "id": "ChlQGYbpx0dn"
      },
      "source": [
        "- Primeiro teste"
      ]
    },
    {
      "cell_type": "code",
      "metadata": {
        "colab": {
          "base_uri": "https://localhost:8080/"
        },
        "id": "jTcLIcpsufPx",
        "outputId": "8c3755bf-e2bc-4b74-e078-bed1c0f440ee"
      },
      "source": [
        "lista = [10, 11,10, 10, 14, 20]\n",
        "print(lista)"
      ],
      "execution_count": null,
      "outputs": [
        {
          "output_type": "stream",
          "name": "stdout",
          "text": [
            "[10, 11, 10, 10, 14, 20]\n"
          ]
        }
      ]
    },
    {
      "cell_type": "code",
      "metadata": {
        "id": "JHt7xhfLufTa"
      },
      "source": [
        "value = 10\n",
        "resultado = lista.count(value)"
      ],
      "execution_count": null,
      "outputs": []
    },
    {
      "cell_type": "code",
      "metadata": {
        "colab": {
          "base_uri": "https://localhost:8080/"
        },
        "id": "opK9b40qufU0",
        "outputId": "417788d9-b140-4bd0-c8cb-a2850f689ac5"
      },
      "source": [
        "print(resultado)"
      ],
      "execution_count": null,
      "outputs": [
        {
          "output_type": "stream",
          "name": "stdout",
          "text": [
            "3\n"
          ]
        }
      ]
    },
    {
      "cell_type": "markdown",
      "metadata": {
        "id": "KZsCE9zqufWZ"
      },
      "source": [
        "- Segundo teste"
      ]
    },
    {
      "cell_type": "code",
      "metadata": {
        "id": "HUNqIsZdufcu"
      },
      "source": [
        "value = 15\n",
        "resultado = lista.count(value)"
      ],
      "execution_count": null,
      "outputs": []
    },
    {
      "cell_type": "code",
      "metadata": {
        "colab": {
          "base_uri": "https://localhost:8080/"
        },
        "id": "GWgSq4hAufe7",
        "outputId": "a4c2d27b-20f1-404a-86b5-364e491ca188"
      },
      "source": [
        "print(resultado)"
      ],
      "execution_count": null,
      "outputs": [
        {
          "output_type": "stream",
          "name": "stdout",
          "text": [
            "0\n"
          ]
        }
      ]
    },
    {
      "cell_type": "markdown",
      "metadata": {
        "id": "hFviImjYzu3S"
      },
      "source": [
        "# Tuplas\n",
        "---\n",
        "\n",
        "Assim como as listas as tuplas são  conjuntos de valores, que podem receber elementos de quaisquer tipos e são acessados por meio dos conceitos de indexação já aprendidos. \n",
        "\n",
        "O que diferencia um dado tipo <code>list</code> de um dado tipo <code>tuple</code>, além da forma de definir esses tipos de dados é a questão da imutalidade do dado. Uma lista pode ser alterada depois de definida, uma tupla não.\n",
        "\n",
        "\n",
        "\n",
        "## Definição de uma tupla\n",
        "\n",
        "<center><img src=\"https://github.com/jupotratz/Python_BI_Master/blob/main/Turmas/2021.3/Imagens/tuple.JPG?raw=true\" width=450><center>"
      ]
    },
    {
      "cell_type": "code",
      "metadata": {
        "colab": {
          "base_uri": "https://localhost:8080/"
        },
        "id": "baBo-XyPzuQC",
        "outputId": "57276312-540d-4c1c-8af0-76beb24cecb3"
      },
      "source": [
        "tupla = (10, 11,10, 10, 14, 20)\n",
        "print(tupla)"
      ],
      "execution_count": null,
      "outputs": [
        {
          "output_type": "stream",
          "name": "stdout",
          "text": [
            "(10, 11, 10, 10, 14, 20)\n"
          ]
        }
      ]
    },
    {
      "cell_type": "code",
      "metadata": {
        "colab": {
          "base_uri": "https://localhost:8080/"
        },
        "id": "ByQLRN-l0mKI",
        "outputId": "f2bf72da-26eb-45cf-adf0-7b06a7ef1d38"
      },
      "source": [
        "type(tupla)"
      ],
      "execution_count": null,
      "outputs": [
        {
          "output_type": "execute_result",
          "data": {
            "text/plain": [
              "tuple"
            ]
          },
          "metadata": {},
          "execution_count": 45
        }
      ]
    },
    {
      "cell_type": "code",
      "metadata": {
        "id": "FTCuGEgJ0mNM"
      },
      "source": [
        "tupla"
      ],
      "execution_count": null,
      "outputs": []
    },
    {
      "cell_type": "markdown",
      "metadata": {
        "id": "Lz5XFkM40rm4"
      },
      "source": [
        "Como uma tupla se assemelha a uma lista, mas ela é um tipo de dado incapaz de ser alterado existem apenas dois metodos para esse tipo de dado que são <code>.count()</code> e <code>.index()</code>. Esses  métodos funcionam exatamente igual ao observado nas listas. \n",
        "\n"
      ]
    },
    {
      "cell_type": "code",
      "metadata": {
        "colab": {
          "base_uri": "https://localhost:8080/"
        },
        "id": "OWtda3Ew0mO6",
        "outputId": "3b45cedd-be3e-4571-a49a-11e1bf9ef59b"
      },
      "source": [
        "tupla.count(10)"
      ],
      "execution_count": null,
      "outputs": [
        {
          "output_type": "execute_result",
          "data": {
            "text/plain": [
              "3"
            ]
          },
          "metadata": {},
          "execution_count": 46
        }
      ]
    },
    {
      "cell_type": "code",
      "metadata": {
        "colab": {
          "base_uri": "https://localhost:8080/"
        },
        "id": "NKHwxRfM0mRB",
        "outputId": "32573a65-0e0c-45d2-acc2-bebe1165b294"
      },
      "source": [
        "tupla.index(10)"
      ],
      "execution_count": null,
      "outputs": [
        {
          "output_type": "execute_result",
          "data": {
            "text/plain": [
              "0"
            ]
          },
          "metadata": {},
          "execution_count": 47
        }
      ]
    },
    {
      "cell_type": "markdown",
      "metadata": {
        "id": "QRZCqRyx1pao"
      },
      "source": [
        "- Vamos tentar adicionar um valor a tupla"
      ]
    },
    {
      "cell_type": "code",
      "metadata": {
        "colab": {
          "base_uri": "https://localhost:8080/",
          "height": 165
        },
        "id": "KHzW0Xvs1ub_",
        "outputId": "4f2198b1-643c-4984-d6fa-34440532e953"
      },
      "source": [
        "tupla.append(16)"
      ],
      "execution_count": null,
      "outputs": [
        {
          "output_type": "error",
          "ename": "AttributeError",
          "evalue": "ignored",
          "traceback": [
            "\u001b[0;31m---------------------------------------------------------------------------\u001b[0m",
            "\u001b[0;31mAttributeError\u001b[0m                            Traceback (most recent call last)",
            "\u001b[0;32m<ipython-input-48-930ffc9a867b>\u001b[0m in \u001b[0;36m<module>\u001b[0;34m()\u001b[0m\n\u001b[0;32m----> 1\u001b[0;31m \u001b[0mtupla\u001b[0m\u001b[0;34m.\u001b[0m\u001b[0mappend\u001b[0m\u001b[0;34m(\u001b[0m\u001b[0;36m16\u001b[0m\u001b[0;34m)\u001b[0m\u001b[0;34m\u001b[0m\u001b[0;34m\u001b[0m\u001b[0m\n\u001b[0m",
            "\u001b[0;31mAttributeError\u001b[0m: 'tuple' object has no attribute 'append'"
          ]
        }
      ]
    },
    {
      "cell_type": "markdown",
      "metadata": {
        "id": "KfjIMdjR1yOO"
      },
      "source": [
        "- Porém, conseguimos gerar novas tuplas concatenando ou replicando tuplas já existentes."
      ]
    },
    {
      "cell_type": "code",
      "metadata": {
        "id": "awwni4bO17dv"
      },
      "source": [
        "t1 = (1,2,3)\n",
        "t2 = (4,5,6)"
      ],
      "execution_count": null,
      "outputs": []
    },
    {
      "cell_type": "code",
      "metadata": {
        "colab": {
          "base_uri": "https://localhost:8080/"
        },
        "id": "tkBCnp__17kJ",
        "outputId": "0f6c3ed4-6825-4725-bfbc-2954cf01a31f"
      },
      "source": [
        "t1+t2"
      ],
      "execution_count": null,
      "outputs": [
        {
          "output_type": "execute_result",
          "data": {
            "text/plain": [
              "(1, 2, 3, 4, 5, 6)"
            ]
          },
          "metadata": {},
          "execution_count": 50
        }
      ]
    },
    {
      "cell_type": "code",
      "metadata": {
        "colab": {
          "base_uri": "https://localhost:8080/"
        },
        "id": "8S16pJU-17pa",
        "outputId": "e6ccafac-c2cc-443a-bb68-78a91596f28d"
      },
      "source": [
        "type(t1+t2)"
      ],
      "execution_count": null,
      "outputs": [
        {
          "output_type": "execute_result",
          "data": {
            "text/plain": [
              "tuple"
            ]
          },
          "metadata": {},
          "execution_count": 51
        }
      ]
    },
    {
      "cell_type": "code",
      "metadata": {
        "colab": {
          "base_uri": "https://localhost:8080/"
        },
        "id": "siZJcCT92FBl",
        "outputId": "454c1426-0d5e-4f6d-c998-938cd1d84717"
      },
      "source": [
        "print(t1)\n",
        "print(t2)"
      ],
      "execution_count": null,
      "outputs": [
        {
          "output_type": "stream",
          "name": "stdout",
          "text": [
            "(1, 2, 3)\n",
            "(4, 5, 6)\n"
          ]
        }
      ]
    },
    {
      "cell_type": "markdown",
      "metadata": {
        "id": "n8JueD5j07Kg"
      },
      "source": [
        "# Repetição\n",
        "\n",
        "---\n",
        "Uma das principais características que consolidaram o sucesso na utilização dos computadores para a resolução de problemas foi a sua capacidade de repetir o processamento de um conjunto de operações para grandes quantidades de dados. Exemplos de conjuntos de tarefas que repetimos diversas vezes dentro de uma situação específica podem ser observados largamente no nosso dia a dia.\n",
        "\n",
        "As estruturas de repetição provém uma maneira de repetir um conjunto de procedimentos até que determinado objetivo seja atingido, quando a repetição se encerra. Todas as estruturas de repetição têm em comum o fato de haver uma condição de controle, expressa através de uma expressão lógica, que é testada em cada ciclo para determinar se a repetição prossegue ou não.\n",
        "\n",
        "Em python, são utilizadas dois tipos de estrutura condicional:\n",
        "\n",
        "- FOR\n",
        "- WHILE\n",
        "\n",
        "\n",
        "Vamos explorar um pouco cada uma delas...\n",
        "\n",
        "\n",
        "\n",
        "\n",
        "\n",
        "\n"
      ]
    },
    {
      "cell_type": "markdown",
      "metadata": {
        "id": "4GK8u0_MzXUQ"
      },
      "source": [
        "## for\n",
        "\n",
        "- O bloco de repetição <code>for</code> normalmente é utilizado quando temos número fixo de repetições, ou seja, sabemos quantas vezes o bloco de comandos determinado deve ser executado, se utiliza uma lista para se iterar a repetição. Algumas indicações de que podemos usar o for:\n",
        "\n",
        "  - Existência de uma sequência de valores\n",
        "\n",
        "<center><img src=\"https://github.com/jupotratz/Python_BI_Master/blob/main/Turmas/2021.3/Imagens/for.JPG?raw=true\" width=900><center>"
      ]
    },
    {
      "cell_type": "markdown",
      "metadata": {
        "id": "NJ272jLW6O3U"
      },
      "source": [
        "- Para facilitar o entendimento das estruturas, vamos importar uma biblioteca para controlar o tempo de execução do código chamada time.\n",
        "\n",
        "```\n",
        "import time\n",
        "```\n",
        "\n",
        "- Iremos utilizar a função <code>.sleep()</code> dessa biblioteca, na qual passamos como arqgumento o tempo em segundos que queremos paralizar a execução do código. "
      ]
    },
    {
      "cell_type": "code",
      "metadata": {
        "id": "C6zezmiz2U8F"
      },
      "source": [
        "import time"
      ],
      "execution_count": null,
      "outputs": []
    },
    {
      "cell_type": "markdown",
      "metadata": {
        "id": "ikGX_pLD2Vu-"
      },
      "source": [
        "## Lista | Tupla | Vetor | Serie"
      ]
    },
    {
      "cell_type": "code",
      "metadata": {
        "id": "sTf2aJc-yqrC"
      },
      "source": [
        "lista = [1,2,3,4,5,6,7,8,9,10]"
      ],
      "execution_count": null,
      "outputs": []
    },
    {
      "cell_type": "markdown",
      "metadata": {
        "id": "HHlzWFm45qFQ"
      },
      "source": [
        "- Vamos inverter a lista para podermo entender melhor o que está acontecendo. Para isso podemos utilizar uma notação do python muito simples para inverter sequências de valores.\n",
        "\n",
        "```\n",
        "lista = lista[::-1]\n",
        "```"
      ]
    },
    {
      "cell_type": "code",
      "metadata": {
        "colab": {
          "base_uri": "https://localhost:8080/"
        },
        "id": "aO2rKK-45nrN",
        "outputId": "e67487e9-6acd-41b1-950c-47e4a339e425"
      },
      "source": [
        "lista = lista[::-1]\n",
        "print(lista)"
      ],
      "execution_count": null,
      "outputs": [
        {
          "output_type": "stream",
          "name": "stdout",
          "text": [
            "[10, 9, 8, 7, 6, 5, 4, 3, 2, 1]\n"
          ]
        }
      ]
    },
    {
      "cell_type": "markdown",
      "metadata": {
        "id": "KiT2FLUI5_pI"
      },
      "source": [
        "- Com a estrutura de repetição for vamos percorrer a nossa lista e multiplicar cada valor da lista por 3 e mostrar os resultados na tela."
      ]
    },
    {
      "cell_type": "code",
      "metadata": {
        "colab": {
          "base_uri": "https://localhost:8080/"
        },
        "id": "Fc9lCU8L5-qN",
        "outputId": "fe263d2d-5225-4e16-e6c4-f376af16968f"
      },
      "source": [
        "for elemento in lista:\n",
        "    time.sleep(2)\n",
        "    print(elemento*3)"
      ],
      "execution_count": null,
      "outputs": [
        {
          "output_type": "stream",
          "name": "stdout",
          "text": [
            "30\n",
            "27\n",
            "24\n",
            "21\n",
            "18\n",
            "15\n",
            "12\n",
            "9\n",
            "6\n",
            "3\n"
          ]
        }
      ]
    },
    {
      "cell_type": "markdown",
      "metadata": {
        "id": "JR3JK9ZRU7Rl"
      },
      "source": [
        "- Com a estrutura de repetição for vamos percorrer a nossa tupla de valores e mostrar para o usuário apenas os valores que são pares."
      ]
    },
    {
      "cell_type": "code",
      "metadata": {
        "id": "luGxVywD5n3T",
        "colab": {
          "base_uri": "https://localhost:8080/"
        },
        "outputId": "951b07d6-d6c6-4013-ca7d-e493bae17981"
      },
      "source": [
        "tupla = (10,11,34,76,35,21,28)\n",
        "for elemento in tupla:\n",
        "    time.sleep(2)\n",
        "    if elemento % 2 ==0:\n",
        "      print(elemento)"
      ],
      "execution_count": null,
      "outputs": [
        {
          "output_type": "stream",
          "name": "stdout",
          "text": [
            "10\n",
            "34\n",
            "76\n",
            "28\n"
          ]
        }
      ]
    },
    {
      "cell_type": "markdown",
      "metadata": {
        "id": "-9S0HDFPVds8"
      },
      "source": [
        "## Problema\n",
        "\n",
        " - Precisamos criar uma lista começando do 1 e indo até o 30. \n",
        " -  Precisamos criar uma lista numérica começando do 0 e indo até 1000 porém apenas com valores que sejam pares.\n",
        " - Precisamos criar uma lista decrescente de 10 a 1.\n",
        "\n",
        "\n",
        "#### Como poderíamos fazer isso sem criar a lista manualmente?\n",
        "\n",
        "\n",
        " <center><img src=\"https://dicasdamaia.files.wordpress.com/2017/12/duvida.png?w=190\"><center>"
      ]
    },
    {
      "cell_type": "markdown",
      "metadata": {
        "id": "b6NrfncK2NXh"
      },
      "source": [
        "## Range\n",
        "\n",
        "- Consiste em uma forma prática de se escrever uma lista em ordem crescente ou decrescente, o até mesmo, considerando intervalos de valores.\n",
        "\n",
        "\n",
        "```\n",
        "range(valor_inicial=0, valor_final, step)\n",
        "```\n",
        "\n"
      ]
    },
    {
      "cell_type": "markdown",
      "metadata": {
        "id": "J-jlIaA928-I"
      },
      "source": [
        "- Vamos gerar uma lista por meio do range de valores inteiros de 1 a 10"
      ]
    },
    {
      "cell_type": "code",
      "metadata": {
        "colab": {
          "base_uri": "https://localhost:8080/"
        },
        "id": "VE8uNgVq2l4v",
        "outputId": "af354817-3063-4e04-f467-ebb78e4b3ad5"
      },
      "source": [
        "range_1 = range(1,30)\n",
        "print('A quantidade de elementos gerado é: ', len(range_1))\n",
        "print(list(range_1))"
      ],
      "execution_count": null,
      "outputs": [
        {
          "output_type": "stream",
          "name": "stdout",
          "text": [
            "A quantidade de elementos gerado é:  29\n",
            "[1, 2, 3, 4, 5, 6, 7, 8, 9, 10, 11, 12, 13, 14, 15, 16, 17, 18, 19, 20, 21, 22, 23, 24, 25, 26, 27, 28, 29]\n"
          ]
        }
      ]
    },
    {
      "cell_type": "markdown",
      "metadata": {
        "id": "b2s8QLLE3FCh"
      },
      "source": [
        "- Mas ele gerou de 1 a 29, o que pode ter acontecido?\n",
        "\n",
        "  - Isso tem a ver com  a questão da indexação, como a indexação começa no zero o ultimo elemento sempre é um stop e não pertence ás nossa sequências."
      ]
    },
    {
      "cell_type": "code",
      "metadata": {
        "colab": {
          "base_uri": "https://localhost:8080/"
        },
        "id": "z5FpRY6A3EPu",
        "outputId": "3e8fc18c-3f1b-4905-c531-bbe844d4b06d"
      },
      "source": [
        "range_1 = range(1,31)\n",
        "print(list(range_1))"
      ],
      "execution_count": null,
      "outputs": [
        {
          "output_type": "stream",
          "name": "stdout",
          "text": [
            "[1, 2, 3, 4, 5, 6, 7, 8, 9, 10, 11, 12, 13, 14, 15, 16, 17, 18, 19, 20, 21, 22, 23, 24, 25, 26, 27, 28, 29, 30]\n"
          ]
        }
      ]
    },
    {
      "cell_type": "markdown",
      "metadata": {
        "id": "Oy7VOanP3Y7g"
      },
      "source": [
        "- Vamos gerar uma lista por meio do range de valores inteiros de 0 a 1001, mas com passo 2."
      ]
    },
    {
      "cell_type": "code",
      "metadata": {
        "colab": {
          "base_uri": "https://localhost:8080/"
        },
        "id": "ilNe368r2mHZ",
        "outputId": "8982f58f-8679-456f-88ee-df633358c642"
      },
      "source": [
        "range_2 = range(0,1001,2)\n",
        "print('Elementos gerados: ',list(range_2))"
      ],
      "execution_count": null,
      "outputs": [
        {
          "output_type": "stream",
          "name": "stdout",
          "text": [
            "Elementos gerados:  [0, 2, 4, 6, 8, 10, 12, 14, 16, 18, 20, 22, 24, 26, 28, 30, 32, 34, 36, 38, 40, 42, 44, 46, 48, 50, 52, 54, 56, 58, 60, 62, 64, 66, 68, 70, 72, 74, 76, 78, 80, 82, 84, 86, 88, 90, 92, 94, 96, 98, 100, 102, 104, 106, 108, 110, 112, 114, 116, 118, 120, 122, 124, 126, 128, 130, 132, 134, 136, 138, 140, 142, 144, 146, 148, 150, 152, 154, 156, 158, 160, 162, 164, 166, 168, 170, 172, 174, 176, 178, 180, 182, 184, 186, 188, 190, 192, 194, 196, 198, 200, 202, 204, 206, 208, 210, 212, 214, 216, 218, 220, 222, 224, 226, 228, 230, 232, 234, 236, 238, 240, 242, 244, 246, 248, 250, 252, 254, 256, 258, 260, 262, 264, 266, 268, 270, 272, 274, 276, 278, 280, 282, 284, 286, 288, 290, 292, 294, 296, 298, 300, 302, 304, 306, 308, 310, 312, 314, 316, 318, 320, 322, 324, 326, 328, 330, 332, 334, 336, 338, 340, 342, 344, 346, 348, 350, 352, 354, 356, 358, 360, 362, 364, 366, 368, 370, 372, 374, 376, 378, 380, 382, 384, 386, 388, 390, 392, 394, 396, 398, 400, 402, 404, 406, 408, 410, 412, 414, 416, 418, 420, 422, 424, 426, 428, 430, 432, 434, 436, 438, 440, 442, 444, 446, 448, 450, 452, 454, 456, 458, 460, 462, 464, 466, 468, 470, 472, 474, 476, 478, 480, 482, 484, 486, 488, 490, 492, 494, 496, 498, 500, 502, 504, 506, 508, 510, 512, 514, 516, 518, 520, 522, 524, 526, 528, 530, 532, 534, 536, 538, 540, 542, 544, 546, 548, 550, 552, 554, 556, 558, 560, 562, 564, 566, 568, 570, 572, 574, 576, 578, 580, 582, 584, 586, 588, 590, 592, 594, 596, 598, 600, 602, 604, 606, 608, 610, 612, 614, 616, 618, 620, 622, 624, 626, 628, 630, 632, 634, 636, 638, 640, 642, 644, 646, 648, 650, 652, 654, 656, 658, 660, 662, 664, 666, 668, 670, 672, 674, 676, 678, 680, 682, 684, 686, 688, 690, 692, 694, 696, 698, 700, 702, 704, 706, 708, 710, 712, 714, 716, 718, 720, 722, 724, 726, 728, 730, 732, 734, 736, 738, 740, 742, 744, 746, 748, 750, 752, 754, 756, 758, 760, 762, 764, 766, 768, 770, 772, 774, 776, 778, 780, 782, 784, 786, 788, 790, 792, 794, 796, 798, 800, 802, 804, 806, 808, 810, 812, 814, 816, 818, 820, 822, 824, 826, 828, 830, 832, 834, 836, 838, 840, 842, 844, 846, 848, 850, 852, 854, 856, 858, 860, 862, 864, 866, 868, 870, 872, 874, 876, 878, 880, 882, 884, 886, 888, 890, 892, 894, 896, 898, 900, 902, 904, 906, 908, 910, 912, 914, 916, 918, 920, 922, 924, 926, 928, 930, 932, 934, 936, 938, 940, 942, 944, 946, 948, 950, 952, 954, 956, 958, 960, 962, 964, 966, 968, 970, 972, 974, 976, 978, 980, 982, 984, 986, 988, 990, 992, 994, 996, 998, 1000]\n"
          ]
        }
      ]
    },
    {
      "cell_type": "markdown",
      "metadata": {
        "id": "E5IDkv1z3sB2"
      },
      "source": [
        "- Vamos gerar uma lista decescente de 10 a 1 com passo -1."
      ]
    },
    {
      "cell_type": "code",
      "metadata": {
        "colab": {
          "base_uri": "https://localhost:8080/"
        },
        "id": "CwIYE8Qi2mXZ",
        "outputId": "9817fe5d-7625-4ee7-9e39-a44b7ce3df38"
      },
      "source": [
        "range_3 = range(10,0,-1)\n",
        "print(list(range_3))"
      ],
      "execution_count": null,
      "outputs": [
        {
          "output_type": "stream",
          "name": "stdout",
          "text": [
            "[10, 9, 8, 7, 6, 5, 4, 3, 2, 1]\n"
          ]
        }
      ]
    },
    {
      "cell_type": "markdown",
      "metadata": {
        "id": "FgIY-XmMXgUT"
      },
      "source": [
        "## Problema\n",
        "\n",
        "A organização de uma maratona aquática não foi muito eficiente e eles acabaram salvando cada uma das informações dos competidores em em conjuntos de dados separados. Uma lista só com os nomes, uma lista só com as idades, uma lista só com o telefone, etc. Pelo menos as posições de cada umas das informações nas diferentes listas corresponde. \n",
        "\n",
        "<center><img src=\"https://github.com/jupotratz/Python_BI_Master/blob/main/Turmas/2021.3/Imagens/maratona_aquatica.PNG?raw=true\" width=450><center>\n",
        "\n",
        "\n",
        "A organização precisa realizar algumas tarefas com essas informações contidas nessas listas, são elas:\n",
        "- Gerar um número de identificação para imprimir na toca de cada participante, para isso podem gerar os números de acordo com a ordem presente na lista.\n",
        "- Conferir algumas informações de participantes específicos, como por exemplo o  João, para isso precisam da informação do telefone dessas alunos. \n",
        "\n",
        "#### Como poderíamosserá que poderíamos fazer isso?\n",
        "\n",
        "\n",
        " <img src=\"https://dicasdamaia.files.wordpress.com/2017/12/duvida.png?w=190\">"
      ]
    },
    {
      "cell_type": "markdown",
      "metadata": {
        "id": "Su42s93Bhklr"
      },
      "source": [
        "## Enumerate x Zip\n",
        "\n",
        "<center><img src=\"https://github.com/jupotratz/Python_BI_Master/blob/main/Turmas/2021.3/Imagens/enumerate_zip.PNG?raw=true\"><center>"
      ]
    },
    {
      "cell_type": "markdown",
      "metadata": {
        "id": "tbwP6ZXL2PGF"
      },
      "source": [
        "### Enumerate\n",
        "\n",
        "A função <code>enumerate()</code> retorna um objeto iterável, geralmente utilizado dentro de estruturas de repetição <code>for</code>. Ele permite que simultâneamente acessemos as informações do index e do valor dos elementos de tipos de dados como listas, tuplas, vetores, etc.\n",
        "\n",
        "Por exemplo, vamos criar uma lista e aplicar a função enumerate nela:"
      ]
    },
    {
      "cell_type": "code",
      "metadata": {
        "id": "-GpAE0-t2MQn"
      },
      "source": [
        "nomes = ['Julia', 'Amanda', 'João', 'Flavia','Matheus','Carlos']"
      ],
      "execution_count": null,
      "outputs": []
    },
    {
      "cell_type": "code",
      "metadata": {
        "colab": {
          "base_uri": "https://localhost:8080/"
        },
        "id": "whOUJV6-4iBl",
        "outputId": "513a9fe3-2b7e-4136-d4b1-f61e2d08eb13"
      },
      "source": [
        "enumerate(nomes)"
      ],
      "execution_count": null,
      "outputs": [
        {
          "output_type": "execute_result",
          "data": {
            "text/plain": [
              "<enumerate at 0x7fa7d99c3780>"
            ]
          },
          "metadata": {},
          "execution_count": 19
        }
      ]
    },
    {
      "cell_type": "markdown",
      "metadata": {
        "id": "3IMzpvO-4r-u"
      },
      "source": [
        "- Reparem que a função retornou algo estranho...\n",
        "\n",
        "- Na verdade a função retornou um objeto iterável, caso eu queira vizualizar, posso tranformar esse objeto em uma lista ou tupla por exemplo. \n",
        "\n"
      ]
    },
    {
      "cell_type": "code",
      "metadata": {
        "colab": {
          "base_uri": "https://localhost:8080/"
        },
        "id": "UkC-aByb4iEo",
        "outputId": "97994ebf-502f-4ec3-d4ef-6cf4c25fadbc"
      },
      "source": [
        "list(enumerate(nomes))"
      ],
      "execution_count": null,
      "outputs": [
        {
          "output_type": "execute_result",
          "data": {
            "text/plain": [
              "[(0, 'Julia'),\n",
              " (1, 'Amanda'),\n",
              " (2, 'João'),\n",
              " (3, 'Flavia'),\n",
              " (4, 'Matheus'),\n",
              " (5, 'Carlos')]"
            ]
          },
          "metadata": {},
          "execution_count": 20
        }
      ]
    },
    {
      "cell_type": "markdown",
      "metadata": {
        "id": "dRcnNVtzikr3"
      },
      "source": [
        "- Reparem que ele gerou uma lista de tuplas, onde cada tupla tem o número (index) e o valor de cada elemento da nossa lista de nomes.\n",
        "\n",
        "- Ainda podemos definir um index de inicio diferente para a nossa função enumerate."
      ]
    },
    {
      "cell_type": "code",
      "metadata": {
        "colab": {
          "base_uri": "https://localhost:8080/"
        },
        "id": "E8uVtN0EikO2",
        "outputId": "f796a22c-d460-4672-836a-05892b83a4e4"
      },
      "source": [
        "list(enumerate(nomes, start=1))"
      ],
      "execution_count": null,
      "outputs": [
        {
          "output_type": "execute_result",
          "data": {
            "text/plain": [
              "[(1, 'Julia'),\n",
              " (2, 'Amanda'),\n",
              " (3, 'João'),\n",
              " (4, 'Flavia'),\n",
              " (5, 'Matheus'),\n",
              " (6, 'Carlos')]"
            ]
          },
          "metadata": {},
          "execution_count": 22
        }
      ]
    },
    {
      "cell_type": "markdown",
      "metadata": {
        "id": "kacs7vyt5KY5"
      },
      "source": [
        "Vamos aplicar esse conceito do enumerate para o problema de gerar os números para as tocas dos participantes, utilizando uma estrutura de repetição:\n",
        "\n",
        "\n",
        "**Observação importante**"
      ]
    },
    {
      "cell_type": "code",
      "metadata": {
        "colab": {
          "base_uri": "https://localhost:8080/"
        },
        "id": "m9yjVfjB5Qkf",
        "outputId": "f3b80298-2526-4219-cb0c-7faa505dc97e"
      },
      "source": [
        "## Podemos atribuir os valores de uma tupla da seguinte forma \n",
        "index, valor = (1, 'Julia')\n",
        "print(index)\n",
        "print(valor)"
      ],
      "execution_count": null,
      "outputs": [
        {
          "output_type": "stream",
          "name": "stdout",
          "text": [
            "1\n",
            "Julia\n"
          ]
        }
      ]
    },
    {
      "cell_type": "markdown",
      "metadata": {
        "id": "VaU9Z2S75WlY"
      },
      "source": [
        "Vamos gerar os valores para cada um dos participantes então, começando do zero.\n",
        "\n",
        "Vamos também padronizar os números no seguinte formato\n",
        "\n",
        "\n",
        "\n",
        "|Número|Código da competição|\n",
        "|:---:|:---:|\n",
        "|1|0001|\n",
        "|2|0002|\n",
        "|3|0003|\n",
        "|4|0004|\n"
      ]
    },
    {
      "cell_type": "code",
      "metadata": {
        "colab": {
          "base_uri": "https://localhost:8080/"
        },
        "id": "03-Jm7LI4iIM",
        "outputId": "db33a040-3d1b-4a55-feae-cc5116c73f22"
      },
      "source": [
        "nomes = ['Julia', 'Amanda', 'João', 'Flavia','Matheus','Carlos']\n",
        "\n",
        "for numero, nome in enumerate(nomes,start=1):\n",
        "  numero_str = str(numero)\n",
        "  if len(numero_str) != 4:\n",
        "    cod = '0'*(4-len(numero_str)) + numero_str\n",
        "    print(f'{nome} - {cod}')\n",
        "    continue\n",
        "  print(f'{nome} - {numero}')"
      ],
      "execution_count": null,
      "outputs": [
        {
          "output_type": "stream",
          "name": "stdout",
          "text": [
            "Julia - 0001\n",
            "Amanda - 0002\n",
            "João - 0003\n",
            "Flavia - 0004\n",
            "Matheus - 0005\n",
            "Carlos - 0006\n"
          ]
        }
      ]
    },
    {
      "cell_type": "markdown",
      "metadata": {
        "id": "AGp48bIw2R1W"
      },
      "source": [
        "## Zip\n",
        "\n",
        "O método <code>zip()</code> do Python pega  um conjunto de elementos ou iteráveis ​​e retorna um único objeto iterador, tendo valores mapeados de todos os conjuntos introduzidos no **zip**. \n",
        "\n",
        "Ele é usado para mapear o índice semelhante de vários contêineres para que eles possam ser usados ​​usando apenas uma única entidade. \n",
        "\n",
        "**Vamos entender melhor o que é esse zip voltando para o nosso problema dos participantes da maratona...**\n",
        "\n",
        "<center><img src=\"https://github.com/jupotratz/Python_BI_Master/blob/main/Turmas/2021.3/Imagens/maratona_aquatica.PNG?raw=true\" width=450><center>"
      ]
    },
    {
      "cell_type": "code",
      "metadata": {
        "id": "cgjjclGA2MTK"
      },
      "source": [
        "nomes = ['Julia', 'Amanda', 'João', 'Flavia','Matheus','Carlos']\n",
        "idades = [25, 33, 45, 32, 26, 18]\n",
        "telefones = ['99365-5487','98652-3654','97939-1821','97225-9988','96512-8155','95799-6322']"
      ],
      "execution_count": null,
      "outputs": []
    },
    {
      "cell_type": "markdown",
      "metadata": {
        "id": "IOL41EebmaHt"
      },
      "source": [
        "- Vamos zipar todas essa listas em um unico objeto iterador"
      ]
    },
    {
      "cell_type": "code",
      "metadata": {
        "id": "esD-tGSw2MWP",
        "colab": {
          "base_uri": "https://localhost:8080/"
        },
        "outputId": "64fd8f6a-3222-450a-d8e3-0e8404c5edab"
      },
      "source": [
        "zip(nomes,idades, telefones)"
      ],
      "execution_count": null,
      "outputs": [
        {
          "output_type": "execute_result",
          "data": {
            "text/plain": [
              "<zip at 0x7fa7d995c780>"
            ]
          },
          "metadata": {},
          "execution_count": 28
        }
      ]
    },
    {
      "cell_type": "markdown",
      "metadata": {
        "id": "EjHM7vCxmlAr"
      },
      "source": [
        "- Reparem que, assim como no enumerate a função retornou algo estranho...\n",
        "\n",
        "- Na verdade a função retornou um objeto zip iterável, caso eu queira vizualizar, podemos tranformar esse objeto em uma lista ou tupla por exemplo. \n"
      ]
    },
    {
      "cell_type": "code",
      "metadata": {
        "id": "BquWwMOL2McI",
        "colab": {
          "base_uri": "https://localhost:8080/"
        },
        "outputId": "3852f8fa-1cd7-4f2c-b892-0db477ebe841"
      },
      "source": [
        "list(zip(nomes,idades, telefones))"
      ],
      "execution_count": null,
      "outputs": [
        {
          "output_type": "execute_result",
          "data": {
            "text/plain": [
              "[('Julia', 25, '99365-5487'),\n",
              " ('Amanda', 33, '98652-3654'),\n",
              " ('João', 45, '97939-1821'),\n",
              " ('Flavia', 32, '97225-9988'),\n",
              " ('Matheus', 26, '96512-8155'),\n",
              " ('Carlos', 18, '95799-6322')]"
            ]
          },
          "metadata": {},
          "execution_count": 29
        }
      ]
    },
    {
      "cell_type": "markdown",
      "metadata": {
        "id": "-eIkmhUlmuk6"
      },
      "source": [
        "- Reparem no que ele mostrou como resultado, uma tupla contendo as informações correspondentes de cada uma das listas separadamente juntas, então se eu quizesse pegar todas as informações da Amanda, poderiamos selecionar o elemento de index 1 dessa lista criada. Podemos ver esse exemplo abaixo:\n"
      ]
    },
    {
      "cell_type": "code",
      "metadata": {
        "colab": {
          "base_uri": "https://localhost:8080/"
        },
        "id": "A1ff9nb-mtLG",
        "outputId": "73ce829e-fdf7-462b-ac5f-e02c77b458f4"
      },
      "source": [
        "print(list(zip(nomes,idades, telefones))[1])"
      ],
      "execution_count": null,
      "outputs": [
        {
          "output_type": "stream",
          "name": "stdout",
          "text": [
            "('Amanda', 33, '98652-3654')\n"
          ]
        }
      ]
    },
    {
      "cell_type": "markdown",
      "metadata": {
        "id": "Yoo_9vGAnONU"
      },
      "source": [
        "**Visto isso, como poderiamos através do zip pegar as informações do João para ligar para ele e conferir as informações:**\n",
        "\n",
        " <center><img src=\"https://dicasdamaia.files.wordpress.com/2017/12/duvida.png?w=190\"><center>\n",
        "\n"
      ]
    },
    {
      "cell_type": "code",
      "metadata": {
        "colab": {
          "base_uri": "https://localhost:8080/"
        },
        "id": "zRAaN_bOm_Z-",
        "outputId": "132ee1d0-64b9-4ac5-811c-e05efb319380"
      },
      "source": [
        "nomes = ['Julia', 'Amanda', 'João', 'Flavia','Matheus','Carlos']\n",
        "idades = [25, 33, 45, 32, 26, 18]\n",
        "telefones = ['99365-5487','98652-3654','97939-1821','97225-9988','96512-8155','95799-6322']\n",
        "\n",
        "for nome, idade, telefone in zip(nomes,idades, telefones):\n",
        "  if nome == \"João\":\n",
        "    print(f'Nome: {nome}\\nIdade: {idade} anos\\nTelefone: {telefone}')"
      ],
      "execution_count": null,
      "outputs": [
        {
          "output_type": "stream",
          "name": "stdout",
          "text": [
            "Nome: João\n",
            "Idade: 45 anos\n",
            "Telefone: 97939-1821\n"
          ]
        }
      ]
    },
    {
      "cell_type": "markdown",
      "metadata": {
        "id": "bK5sUu_Ln5rg"
      },
      "source": [
        "**Poderiamos resolver esse mesmo problema com a função** <code>enumerate()</code> ?"
      ]
    },
    {
      "cell_type": "code",
      "metadata": {
        "colab": {
          "base_uri": "https://localhost:8080/"
        },
        "id": "Oqbv2P7yn0Nx",
        "outputId": "c7470009-ff44-4c19-ff53-0fa64523fda0"
      },
      "source": [
        "nomes = ['Julia', 'Amanda', 'João', 'Flavia','Matheus','Carlos']\n",
        "idades = [25, 33, 45, 32, 26, 18]\n",
        "telefones = ['99365-5487','98652-3654','97939-1821','97225-9988','96512-8155','95799-6322']\n",
        "\n",
        "for index, nome in enumerate(nomes):\n",
        "  if nome == 'João':\n",
        "    idade = idades[index]\n",
        "    telefone = telefones[index]\n",
        "    print(f'Nome: {nome}\\nIdade: {idade} anos\\nTelefone: {telefone}')"
      ],
      "execution_count": null,
      "outputs": [
        {
          "output_type": "stream",
          "name": "stdout",
          "text": [
            "Nome: João\n",
            "Idade: 45 anos\n",
            "Telefone: 97939-1821\n"
          ]
        }
      ]
    },
    {
      "cell_type": "markdown",
      "metadata": {
        "id": "ZJ_JJeKworr-"
      },
      "source": [
        "## While\n",
        "\n",
        "- O bloco de repetição <code>while</code> normalmente é utilizado quando temos número **variável** de repetições, ou seja, não sabemos ao certo quantas vezes o bloco de comandos determinado deve ser executado. Para determinar a continuação ou não continuação da repetição é utilizado um teste de condição válido para cada caso (de acordo com a lógica do problema):\n",
        "\n",
        "\n",
        "<center><img src=\"https://github.com/jupotratz/Python_BI_Master/blob/main/Turmas/2021.3/Imagens/while.JPG?raw=true\" width=900><center>\n",
        "\n",
        "\n"
      ]
    },
    {
      "cell_type": "markdown",
      "metadata": {
        "id": "8CjDSwBpsEIx"
      },
      "source": [
        "#### Vamos pensar em um exemplo prático de repetição em que não temos um número definido de vezes que vamos ter que repetir o procedimento\n",
        "\n",
        "- Fábrica de automóveis:\n",
        "\n",
        "\n",
        "<center><img src=\"https://github.com/jupotratz/Python_BI_Master/blob/main/Turmas/2021.3/Imagens/cadeia_produtiva_fabrica.png?raw=true\" width=500>\n",
        "\n",
        "\n"
      ]
    },
    {
      "cell_type": "markdown",
      "metadata": {
        "id": "CBHukNxZPN75"
      },
      "source": [
        "- Para construir um carro, uma fabrica precisa de 50 parafusos **não defeituosos**, e para isso eles colocam um funcionário para realizar a verificação de cada parafuso para que não haja problema na linha de montagem. \n",
        "  - O funcionário separa grupos de parafusos para cada automóvel seguindo o seguinte procedimento:\n",
        "\n",
        "```\n",
        "1. Pega a caixa de peças do carro x\n",
        "2. Pega um parafuso\n",
        "3. Verifica se o parafuso é defeituoso\n",
        "  3.1. Se for defeituoso joga na caixa de peças defeituosas\n",
        "  3.2. Se não for defeituoso joga na caixa de peças para o carro x \n",
        "4. Verifica se existem 50 parafusos, caso contrário volta ao passo 2\n",
        "5. Quando chega a 50 parafusos, passa a caixa de peças para a sequência da linha de produção. \n",
        "```\n",
        "### Algumas perguntinhas\n",
        "- Quantos parafusos o funcionário verificou para completar a quantidade de parafusos necessários para o carro x?\n",
        "- Qual foi a condição para ele parar de verificar parafusos defeituosos para o carro x?\n",
        "\n",
        "<center><img src=\"https://dicasdamaia.files.wordpress.com/2017/12/duvida.png?w=190\">"
      ]
    },
    {
      "cell_type": "markdown",
      "metadata": {
        "id": "btGg5YY337zp"
      },
      "source": [
        "Vamos, agora, ver um exemplo bem direto sobre o uso do loop **while**: \n",
        "\n",
        "Considere que você tem um dado de jogo e foi desafiado a gerar 6 vezes o número 6 do dado, quantas rodadas serão necessárias para isso?"
      ]
    },
    {
      "cell_type": "markdown",
      "metadata": {
        "id": "lNma0_OW4ZF2"
      },
      "source": [
        "Antes de programarmos a solução, vamos montar o algoritmo desse problema:\n",
        "\n",
        "```\n",
        "1. Crie uma variável chamada acerto que recebe o número zero, ela irá ser atualizada em 1 unidade toda vez que o número 6 for sorteado\n",
        "2. Sorteie um número inteiro entre 1 e 6\n",
        "3. O número sorteado é igual a 6?\n",
        "  3.1. Se sim, acerto é acrescido de 1 unidade\n",
        "  3.2. Se não, não faça nada\n",
        "4. acerto é igual a 6? \n",
        "  4.1. Se sim, fim do jogo\n",
        "  4.2. Se não, retorne ao passo 2\n",
        "```\n",
        "\n",
        "Para realizarmos o passo 2 do algoritmo, precisamos fazer a importação de uma biblioteca para podermos utilizar uma função que sorteia números inteiros dentro de um intervalo. \n",
        "\n",
        "Essa biblioteca se chama [**random**](https://docs.python.org/3/library/random.html) e a função que iremos utilizar é **randint**.\n",
        "\n",
        "Também iremos utilizar a função <code>sleep()</code> da bibliotec **time**"
      ]
    },
    {
      "cell_type": "code",
      "metadata": {
        "id": "6QUN5D6lF0O-"
      },
      "source": [
        "import random\n",
        "import time"
      ],
      "execution_count": null,
      "outputs": []
    },
    {
      "cell_type": "code",
      "metadata": {
        "colab": {
          "base_uri": "https://localhost:8080/"
        },
        "id": "3AzMZFBQyyy2",
        "outputId": "f04e3b37-f650-482e-bcbe-f686a4fec651"
      },
      "source": [
        "acerto = 0\n",
        "while acerto < 6:\n",
        "  num = random.randint(1,6)\n",
        "  print(num)\n",
        "  if num == 6:\n",
        "    acerto += 1\n",
        "  time.sleep(1) \n",
        "\n",
        "print('Quantidade de acertos ',acerto) "
      ],
      "execution_count": null,
      "outputs": [
        {
          "output_type": "stream",
          "name": "stdout",
          "text": [
            "6\n",
            "2\n",
            "2\n",
            "2\n",
            "2\n",
            "4\n",
            "5\n",
            "1\n",
            "4\n",
            "6\n",
            "3\n",
            "3\n",
            "6\n",
            "5\n",
            "6\n",
            "6\n",
            "1\n",
            "4\n",
            "4\n",
            "3\n",
            "2\n",
            "2\n",
            "6\n",
            "Quantidade de acertos  6\n"
          ]
        }
      ]
    },
    {
      "cell_type": "markdown",
      "metadata": {
        "id": "SeaxIW3QF9X5"
      },
      "source": [
        "Agora, se quisermos saber quantas tentativas erradas foram feitas, como adaptamos o código anterior?"
      ]
    },
    {
      "cell_type": "markdown",
      "metadata": {
        "id": "UJfsCZjUGF0x"
      },
      "source": [
        "Podemos criar outra variável que contabiliza o número de vezes que o dado sorteou um valor diferente de 6. Essa contabilização deve ser feita dentro do *else*."
      ]
    },
    {
      "cell_type": "code",
      "metadata": {
        "colab": {
          "base_uri": "https://localhost:8080/"
        },
        "id": "_lPOLqbaGE4K",
        "outputId": "6366066d-b2aa-48f0-f692-9cf57b9feacd"
      },
      "source": [
        "acerto = 0\n",
        "erro = 0\n",
        "while acerto < 6:\n",
        "  num = random.randint(1,6)\n",
        "  print(num)\n",
        "  if num == 6:\n",
        "    acerto += 1 \n",
        "  else:\n",
        "    erro += 1\n",
        "  time.sleep(1)\n",
        "   \n",
        "print(f'\\nO dado sorteou {acerto} vezes o número 6 e sorteou {erro} vezes os outros números.') "
      ],
      "execution_count": null,
      "outputs": [
        {
          "output_type": "stream",
          "name": "stdout",
          "text": [
            "3\n",
            "2\n",
            "2\n",
            "6\n",
            "4\n",
            "2\n",
            "4\n",
            "5\n",
            "4\n",
            "1\n",
            "2\n",
            "1\n",
            "4\n",
            "2\n",
            "2\n",
            "4\n",
            "1\n",
            "6\n",
            "5\n",
            "6\n",
            "3\n",
            "1\n",
            "6\n",
            "3\n",
            "4\n",
            "2\n",
            "6\n",
            "3\n",
            "6\n",
            "\n",
            "O dado sorteou 6 vezes o número 6 e sorteou 23 vezes os outros números.\n"
          ]
        }
      ]
    },
    {
      "cell_type": "markdown",
      "metadata": {
        "id": "DViwv_hdHA1f"
      },
      "source": [
        "Ao usarmos o **while** podemos fazer uso de comandos muito úteis, que são eles:\n",
        "\n",
        "- break\n",
        "- continue \n",
        "- pass\n",
        "\n",
        "Vamos, conhecer cada um em detalhes."
      ]
    },
    {
      "cell_type": "markdown",
      "metadata": {
        "id": "X3qgreSKHXYt"
      },
      "source": [
        "### break & continue\n",
        "\n",
        "O *break* e o *continue* muitas vezes são confundidos entre si, porém eles executam ações bem diferentes. A figura a seguir exemplifica o que cada um deles faz.\n",
        "\n",
        "<center><img src=\"https://github.com/jupotratz/Python_BI_Master/blob/main/Turmas/2021.3/Imagens/breakcontinue.png?raw=true\" width=300>"
      ]
    },
    {
      "cell_type": "markdown",
      "metadata": {
        "id": "t7llSz4eIO1q"
      },
      "source": [
        "- O *break* termina imediatamente um loop por completo. A execução do programa prossegue para a primeira instrução após o corpo do loop.\n",
        "\n",
        "- O *continue* termina imediatamente a iteração do loop atual. A execução salta para o início do loop e a expressão de controle é reavaliada para determinar se o loop será executado novamente ou será encerrado."
      ]
    },
    {
      "cell_type": "markdown",
      "metadata": {
        "id": "N1cazc9kIb_C"
      },
      "source": [
        "Vamos voltar ao nosso código anterior e adaptá-lo para interromper o loop se o dado sortear o valor 3:"
      ]
    },
    {
      "cell_type": "code",
      "metadata": {
        "colab": {
          "base_uri": "https://localhost:8080/"
        },
        "id": "jQZCxzbDHAFs",
        "outputId": "65115957-c2f5-462e-85c0-58ce2582cfa4"
      },
      "source": [
        "acerto = 0\n",
        "erro = 0\n",
        "while acerto < 6:\n",
        "  num = random.randint(1,6)\n",
        "  print(num)\n",
        "  if num == 6:\n",
        "    acerto += 1 \n",
        "  else:\n",
        "    if num == 3:\n",
        "      print('Execução do loop interrompida')\n",
        "      break\n",
        "    erro += 1\n",
        "  time.sleep(1) \n",
        "print(f'O dado sorteou {acerto} vezes o número 6 e sorteou {erro} vezes os outros números.') "
      ],
      "execution_count": null,
      "outputs": [
        {
          "output_type": "stream",
          "name": "stdout",
          "text": [
            "5\n",
            "2\n",
            "5\n",
            "6\n",
            "1\n",
            "6\n",
            "2\n",
            "5\n",
            "4\n",
            "6\n",
            "1\n",
            "2\n",
            "6\n",
            "4\n",
            "5\n",
            "5\n",
            "3\n",
            "Execução do loop interrompida\n",
            "O dado sorteou 4 vezes o número 6 e sorteou 12 vezes os outros números.\n"
          ]
        }
      ]
    },
    {
      "cell_type": "markdown",
      "metadata": {
        "id": "WkHY64d0JIN1"
      },
      "source": [
        "Vamos ver outro exemplo de loop usando o comando *continue*:"
      ]
    },
    {
      "cell_type": "code",
      "metadata": {
        "colab": {
          "base_uri": "https://localhost:8080/"
        },
        "id": "DL0rqVpoyy9u",
        "outputId": "c4df13c6-e5a0-4584-b1cd-83457c61efcd"
      },
      "source": [
        "n = 5\n",
        "print(n)\n",
        "while n > 0:\n",
        "  n -= 1\n",
        "  if n == 2:\n",
        "    continue\n",
        "  print(n)\n",
        "  time.sleep(1) \n",
        "print('Loop terminou')"
      ],
      "execution_count": null,
      "outputs": [
        {
          "output_type": "stream",
          "name": "stdout",
          "text": [
            "5\n",
            "4\n",
            "3\n",
            "1\n",
            "0\n",
            "Loop terminou\n"
          ]
        }
      ]
    },
    {
      "cell_type": "markdown",
      "metadata": {
        "id": "f3v_sXz6JjWO"
      },
      "source": [
        "Reparem que na hora que n foi igual a 2, o número 2 não foi impresso na tela, isso porque o Python ao ler o continue retornou a linha do while e não chegou a ler o comando print abaixo. "
      ]
    },
    {
      "cell_type": "markdown",
      "metadata": {
        "id": "g1rQlY4lJ_u5"
      },
      "source": [
        "### pass\n",
        "\n",
        "Vamos entender agora, para que serve a declaração *pass*. \n",
        "\n",
        "Quando uma condição externa é acionada, a instrução *pass* permite lidar com a condição sem que o loop seja impactado; todo o código continuará sendo lido a menos que um break ou outra instrução ocorra.\n",
        "\n",
        "Assim como ocorre com outras instruções, a instrução pass ficará dentro do bloco de código abaixo da instrução de loop, normalmente após uma instrução condicional if."
      ]
    },
    {
      "cell_type": "markdown",
      "metadata": {
        "id": "8sQ_EzuVbrih"
      },
      "source": [
        "## Exemplo:\n",
        "\n",
        "Para exemplificar vou utilizar duas novas funções reservadas utilizadas para tratar problemas que podem acontecer durante a execução do código:\n",
        "\n",
        "\n",
        "```\n",
        "try:\n",
        "  comandos...\n",
        "except:\n",
        "  comandos...\n",
        "```\n",
        "\n",
        "- Vamos criar uma lista com valores numéricos, percorrer essa lista usando o <code>while</code> e criar uma lista de zeros do tamanho desses numeros dessa lista:\n",
        "\n",
        "**Obs:** irei colocar um valor reail na lista de propósito."
      ]
    },
    {
      "cell_type": "code",
      "metadata": {
        "id": "b5yJjulgdGS0"
      },
      "source": [
        "lista = [5, 12, 6.7, 3, 0, 19, 2]"
      ],
      "execution_count": null,
      "outputs": []
    },
    {
      "cell_type": "markdown",
      "metadata": {
        "id": "tadBJTsBd_Dr"
      },
      "source": [
        "- como criar uma lista com 5 zeros"
      ]
    },
    {
      "cell_type": "code",
      "metadata": {
        "colab": {
          "base_uri": "https://localhost:8080/"
        },
        "id": "T6wDYNmud_MW",
        "outputId": "26e43993-6604-4a33-e802-a52c1916dec7"
      },
      "source": [
        "[0]*5"
      ],
      "execution_count": null,
      "outputs": [
        {
          "output_type": "execute_result",
          "data": {
            "text/plain": [
              "[0, 0, 0, 0, 0]"
            ]
          },
          "metadata": {},
          "execution_count": 20
        }
      ]
    },
    {
      "cell_type": "markdown",
      "metadata": {
        "id": "F3wGYRxUdWGy"
      },
      "source": [
        "- vamos ver como percorrer os valores de uma lista usando o <code>while</code>"
      ]
    },
    {
      "cell_type": "code",
      "metadata": {
        "colab": {
          "base_uri": "https://localhost:8080/",
          "height": 273
        },
        "id": "MQCXt_62dGet",
        "outputId": "9893a6b2-dd1b-4e06-856f-064ac7ae433d"
      },
      "source": [
        "qnt_elem_lista = len(lista)\n",
        "cont = 0\n",
        "\n",
        "while cont < qnt_elem_lista:\n",
        "  lista_zeros =  lista[cont]*[0]\n",
        "  print(lista_zeros)\n",
        "\n",
        "  # Variável de controle tem que ser alterada dentro do loop\n",
        "  cont += 1"
      ],
      "execution_count": null,
      "outputs": [
        {
          "output_type": "stream",
          "name": "stdout",
          "text": [
            "[0, 0, 0, 0, 0]\n",
            "[0, 0, 0, 0, 0, 0, 0, 0, 0, 0, 0, 0]\n"
          ]
        },
        {
          "output_type": "error",
          "ename": "TypeError",
          "evalue": "ignored",
          "traceback": [
            "\u001b[0;31m---------------------------------------------------------------------------\u001b[0m",
            "\u001b[0;31mTypeError\u001b[0m                                 Traceback (most recent call last)",
            "\u001b[0;32m<ipython-input-21-64efdaba51c0>\u001b[0m in \u001b[0;36m<module>\u001b[0;34m()\u001b[0m\n\u001b[1;32m      3\u001b[0m \u001b[0;34m\u001b[0m\u001b[0m\n\u001b[1;32m      4\u001b[0m \u001b[0;32mwhile\u001b[0m \u001b[0mcont\u001b[0m \u001b[0;34m<\u001b[0m \u001b[0mqnt_elem_lista\u001b[0m\u001b[0;34m:\u001b[0m\u001b[0;34m\u001b[0m\u001b[0;34m\u001b[0m\u001b[0m\n\u001b[0;32m----> 5\u001b[0;31m   \u001b[0mlista_zeros\u001b[0m \u001b[0;34m=\u001b[0m  \u001b[0mlista\u001b[0m\u001b[0;34m[\u001b[0m\u001b[0mcont\u001b[0m\u001b[0;34m]\u001b[0m\u001b[0;34m*\u001b[0m\u001b[0;34m[\u001b[0m\u001b[0;36m0\u001b[0m\u001b[0;34m]\u001b[0m\u001b[0;34m\u001b[0m\u001b[0;34m\u001b[0m\u001b[0m\n\u001b[0m\u001b[1;32m      6\u001b[0m   \u001b[0mprint\u001b[0m\u001b[0;34m(\u001b[0m\u001b[0mlista_zeros\u001b[0m\u001b[0;34m)\u001b[0m\u001b[0;34m\u001b[0m\u001b[0;34m\u001b[0m\u001b[0m\n\u001b[1;32m      7\u001b[0m \u001b[0;34m\u001b[0m\u001b[0m\n",
            "\u001b[0;31mTypeError\u001b[0m: can't multiply sequence by non-int of type 'float'"
          ]
        }
      ]
    },
    {
      "cell_type": "markdown",
      "metadata": {
        "id": "2x-60wwveKzl"
      },
      "source": [
        "- Reparem no erro que aconteceu, alguem tem alguma ideia do que pode ter acontecido?\n",
        "\n",
        "<center><img src=\"https://dicasdamaia.files.wordpress.com/2017/12/duvida.png?w=150\">\n"
      ]
    },
    {
      "cell_type": "markdown",
      "metadata": {
        "id": "hAWesRaDea-D"
      },
      "source": [
        "- Vamos usar o <code>try</code> + <code>except</code> + <code>pass</code> para resolver isso."
      ]
    },
    {
      "cell_type": "code",
      "metadata": {
        "colab": {
          "base_uri": "https://localhost:8080/"
        },
        "id": "QSMSnVxVdGgo",
        "outputId": "5abda472-36e3-4853-b57e-c1258ea43f5c"
      },
      "source": [
        "qnt_elem_lista = len(lista)\n",
        "cont = 0\n",
        "\n",
        "while cont < qnt_elem_lista:\n",
        "  \n",
        "  \n",
        "  try:\n",
        "    lista_zeros =  lista[cont]*[0]\n",
        "    print(lista_zeros)\n",
        "  except:\n",
        "    pass\n",
        "  # Variável de controle tem que ser alterada dentro do loop\n",
        "  cont += 1"
      ],
      "execution_count": null,
      "outputs": [
        {
          "output_type": "stream",
          "name": "stdout",
          "text": [
            "[0, 0, 0, 0, 0]\n",
            "[0, 0, 0, 0, 0, 0, 0, 0, 0, 0, 0, 0]\n",
            "[0, 0, 0]\n",
            "[]\n",
            "[0, 0, 0, 0, 0, 0, 0, 0, 0, 0, 0, 0, 0, 0, 0, 0, 0, 0, 0]\n",
            "[0, 0]\n"
          ]
        }
      ]
    },
    {
      "cell_type": "markdown",
      "metadata": {
        "id": "M2KtTNRaevL_"
      },
      "source": [
        "- Reparem o tamanho da lista que tinhamos e quantas listas de zero foram exibidas na tela."
      ]
    },
    {
      "cell_type": "code",
      "metadata": {
        "colab": {
          "base_uri": "https://localhost:8080/"
        },
        "id": "j0WY_9xYdGir",
        "outputId": "52152adc-e640-46b1-9661-13a2aed9312c"
      },
      "source": [
        "\n",
        "len(lista)"
      ],
      "execution_count": null,
      "outputs": [
        {
          "output_type": "execute_result",
          "data": {
            "text/plain": [
              "7"
            ]
          },
          "metadata": {},
          "execution_count": 23
        }
      ]
    },
    {
      "cell_type": "markdown",
      "metadata": {
        "id": "Iha8JOSUKWdm"
      },
      "source": [
        "A instrução *pass* que ocorre após a instrução condicional if está dizendo ao programa para continuar executando o loop e ignorar o fato de que a variável n é avaliada como equivalente a 2 durante uma das iterações."
      ]
    },
    {
      "cell_type": "markdown",
      "metadata": {
        "id": "udNYKYlMKh8w"
      },
      "source": [
        "Ao usar a instrução pass neste programa, notamos que o programa é executado exatamente como seria se não houvesse nenhuma instrução condicional no programa. A instrução pass diz ao programa para desconsiderar essa condição e continuar executando o programa como sempre."
      ]
    },
    {
      "cell_type": "markdown",
      "metadata": {
        "id": "Es-hPEJUK0jH"
      },
      "source": [
        "### Vamos fazer?\n",
        "\n",
        "- Programe um código que execute um loop enquanto a soma de todos elementos de uma lista for menor do que 50. No início do programa, essa lista deve ser declarada como lista vazia e ela só pode conter elementos inteiros.\n",
        "Use a função *random.randint* para gerar elementos da lista, mas essa função só pode gerar números de 0 a 5. "
      ]
    },
    {
      "cell_type": "code",
      "metadata": {
        "id": "FmX8dWf6L-nR"
      },
      "source": [
        ""
      ],
      "execution_count": null,
      "outputs": []
    },
    {
      "cell_type": "markdown",
      "metadata": {
        "id": "gQHkOx2iL8DI"
      },
      "source": [
        "- Adapte o código gerado considerando que toda vez que o número 3 for sorteado ele não pode ser adicionado à lista.  "
      ]
    },
    {
      "cell_type": "code",
      "metadata": {
        "id": "k82qMcMOL_VL"
      },
      "source": [
        ""
      ],
      "execution_count": null,
      "outputs": []
    },
    {
      "cell_type": "markdown",
      "metadata": {
        "id": "AXbfGiSgL9-W"
      },
      "source": [
        "- Além da adaptação anterior, interrompa o código se forem adicionados à lista a sequência de números 1,2. "
      ]
    },
    {
      "cell_type": "code",
      "metadata": {
        "id": "NpMksH5-LU6q"
      },
      "source": [
        ""
      ],
      "execution_count": null,
      "outputs": []
    },
    {
      "cell_type": "markdown",
      "metadata": {
        "id": "7mKSiGvbMOND"
      },
      "source": [
        "- Retornando ao problema apresentado no início do talk, vocês conseguem resolvê-lo? "
      ]
    },
    {
      "cell_type": "code",
      "metadata": {
        "id": "t5u3eSRqMTH7"
      },
      "source": [
        ""
      ],
      "execution_count": null,
      "outputs": []
    }
  ]
}